{
  "nbformat": 4,
  "nbformat_minor": 0,
  "metadata": {
    "colab": {
      "provenance": [],
      "gpuType": "T4",
      "authorship_tag": "ABX9TyNHqT/aGX+EVT54kapMjF8C"
    },
    "kernelspec": {
      "name": "python3",
      "display_name": "Python 3"
    },
    "language_info": {
      "name": "python"
    },
    "accelerator": "GPU"
  },
  "cells": [
    {
      "cell_type": "markdown",
      "source": [
        "# CNN Classifier on Fashion MNIST\n",
        "\n",
        "The classic MNIST CNN Classifier but instead of the seen and seen MNIST Dataset, the alternative Fashion MNIST.\n",
        "\n",
        "## Data\n",
        "\n",
        "The dataset consists of 60,000 training images and 10,000 test images, each with a dimension of 28x28 pixels.\n",
        "\n",
        "Downloaded directoly from [the PyTorch API](https://pytorch.org/vision/stable/generated/torchvision.datasets.FashionMNIST.html).\n"
      ],
      "metadata": {
        "id": "bp4BSai03-Ax"
      }
    },
    {
      "cell_type": "code",
      "execution_count": 25,
      "metadata": {
        "id": "cax4A5K7Y788"
      },
      "outputs": [],
      "source": [
        "import torch\n",
        "import torchvision\n",
        "import torchvision.transforms as transforms"
      ]
    },
    {
      "cell_type": "code",
      "source": [
        "torch.cuda.is_available()"
      ],
      "metadata": {
        "colab": {
          "base_uri": "https://localhost:8080/"
        },
        "id": "1mrtAZQOZUCQ",
        "outputId": "b07bbbab-d419-4558-8363-c2ad04ce2ea4"
      },
      "execution_count": 26,
      "outputs": [
        {
          "output_type": "execute_result",
          "data": {
            "text/plain": [
              "True"
            ]
          },
          "metadata": {},
          "execution_count": 26
        }
      ]
    },
    {
      "cell_type": "code",
      "source": [
        "device = 'cuda:0' if torch.cuda.is_available() else 'cpu'\n",
        "device"
      ],
      "metadata": {
        "colab": {
          "base_uri": "https://localhost:8080/",
          "height": 35
        },
        "id": "APE-zvYOqoEJ",
        "outputId": "404a5117-a3cf-4c8a-ca6a-63f1354bc341"
      },
      "execution_count": 27,
      "outputs": [
        {
          "output_type": "execute_result",
          "data": {
            "text/plain": [
              "'cuda:0'"
            ],
            "application/vnd.google.colaboratory.intrinsic+json": {
              "type": "string"
            }
          },
          "metadata": {},
          "execution_count": 27
        }
      ]
    },
    {
      "cell_type": "code",
      "source": [
        "transform = transforms.ToTensor()\n",
        "\n",
        "batch_size = 8\n",
        "\n",
        "trainset = torchvision.datasets.FashionMNIST(root='./data', train=True,\n",
        "                                        download=True, transform=transform)\n",
        "\n",
        "\n",
        "testset = torchvision.datasets.FashionMNIST(root='./data', train=False,\n",
        "                                       download=True, transform=transform)\n",
        "\n",
        "classes = ('T-shirt/top', 'Trouser/pants','Pullover shirt','Dress','Coat','Sandal',\n",
        "           'Shirt','Sneaker','Bag','Ankle boot')"
      ],
      "metadata": {
        "id": "DufJwo0A3J8M"
      },
      "execution_count": 28,
      "outputs": []
    },
    {
      "cell_type": "code",
      "source": [
        "train_iter = iter(trainset)\n",
        "\n",
        "image, label = next(train_iter)\n",
        "\n",
        "image.shape, label"
      ],
      "metadata": {
        "colab": {
          "base_uri": "https://localhost:8080/"
        },
        "id": "7MqOcVsS3Nh2",
        "outputId": "84769bf8-efa7-441b-f930-ffc17ea5b8fa"
      },
      "execution_count": 29,
      "outputs": [
        {
          "output_type": "execute_result",
          "data": {
            "text/plain": [
              "(torch.Size([1, 28, 28]), 9)"
            ]
          },
          "metadata": {},
          "execution_count": 29
        }
      ]
    },
    {
      "cell_type": "code",
      "source": [
        "torch.min(image).item(), torch.max(image).item()"
      ],
      "metadata": {
        "colab": {
          "base_uri": "https://localhost:8080/"
        },
        "id": "8VVXyL423PDS",
        "outputId": "7d0666f7-bfd0-44cc-8221-995081eb8b86"
      },
      "execution_count": 30,
      "outputs": [
        {
          "output_type": "execute_result",
          "data": {
            "text/plain": [
              "(0.0, 1.0)"
            ]
          },
          "metadata": {},
          "execution_count": 30
        }
      ]
    },
    {
      "cell_type": "code",
      "source": [
        "import matplotlib.pyplot as plt\n",
        "import numpy as np\n",
        "\n",
        "np_img = image.numpy()\n",
        "print(classes[9])\n",
        "plt.imshow(np_img.reshape((28, 28, 1)))"
      ],
      "metadata": {
        "colab": {
          "base_uri": "https://localhost:8080/",
          "height": 465
        },
        "id": "BoO-QCJR3RWX",
        "outputId": "93f75423-8b94-4a01-d8c4-6332f7e9b7f1"
      },
      "execution_count": 31,
      "outputs": [
        {
          "output_type": "stream",
          "name": "stdout",
          "text": [
            "Ankle boot\n"
          ]
        },
        {
          "output_type": "execute_result",
          "data": {
            "text/plain": [
              "<matplotlib.image.AxesImage at 0x7b70e5fe1ed0>"
            ]
          },
          "metadata": {},
          "execution_count": 31
        },
        {
          "output_type": "display_data",
          "data": {
            "text/plain": [
              "<Figure size 640x480 with 1 Axes>"
            ],
            "image/png": "[encoded data removed]"
          },
          "metadata": {}
        }
      ]
    },
    {
      "cell_type": "markdown",
      "source": [
        "## Split the Datase\n",
        "\n",
        "Divide the dataset in:\n",
        "* 50000 Training set\n",
        "* 10000 Validation set\n",
        "* 10000 Test set"
      ],
      "metadata": {
        "id": "PEiW2_kH55_E"
      }
    },
    {
      "cell_type": "code",
      "source": [
        "len(trainset), len(testset)"
      ],
      "metadata": {
        "colab": {
          "base_uri": "https://localhost:8080/"
        },
        "id": "noxthnTa5YCt",
        "outputId": "178fa700-1fdf-4ec4-e97e-9dcc22f3b585"
      },
      "execution_count": 32,
      "outputs": [
        {
          "output_type": "execute_result",
          "data": {
            "text/plain": [
              "(60000, 10000)"
            ]
          },
          "metadata": {},
          "execution_count": 32
        }
      ]
    },
    {
      "cell_type": "code",
      "source": [
        "trainset, valset = torch.utils.data.random_split(trainset, [50000, 10000])\n",
        "len(trainset), len(valset), len(testset)"
      ],
      "metadata": {
        "colab": {
          "base_uri": "https://localhost:8080/"
        },
        "id": "mShz6k0k5aKW",
        "outputId": "5c55b4b0-224a-4c35-d441-a74e845f427f"
      },
      "execution_count": 33,
      "outputs": [
        {
          "output_type": "execute_result",
          "data": {
            "text/plain": [
              "(50000, 10000, 10000)"
            ]
          },
          "metadata": {},
          "execution_count": 33
        }
      ]
    },
    {
      "cell_type": "code",
      "source": [
        "print(f'Number of batches in the training set: {int(50000 / batch_size)}')"
      ],
      "metadata": {
        "colab": {
          "base_uri": "https://localhost:8080/"
        },
        "id": "Ap-Cdf0u5baT",
        "outputId": "2d3897c7-a3e1-4bb4-bde8-75e266417689"
      },
      "execution_count": 34,
      "outputs": [
        {
          "output_type": "stream",
          "name": "stdout",
          "text": [
            "Number of batches in the training set: 6250\n"
          ]
        }
      ]
    },
    {
      "cell_type": "code",
      "source": [
        "print(f'Number of batches in the validation set: {int(10000 / batch_size)}')"
      ],
      "metadata": {
        "colab": {
          "base_uri": "https://localhost:8080/"
        },
        "id": "HhFspDx35dH8",
        "outputId": "5e9892a9-e319-4409-9f68-b874648dcb92"
      },
      "execution_count": 35,
      "outputs": [
        {
          "output_type": "stream",
          "name": "stdout",
          "text": [
            "Number of batches in the validation set: 1250\n"
          ]
        }
      ]
    },
    {
      "cell_type": "code",
      "source": [
        "type(trainset)"
      ],
      "metadata": {
        "colab": {
          "base_uri": "https://localhost:8080/"
        },
        "id": "zO58FR7J5e--",
        "outputId": "0c7d5dcc-d0b1-40e3-d60e-94d397846a1d"
      },
      "execution_count": 36,
      "outputs": [
        {
          "output_type": "execute_result",
          "data": {
            "text/plain": [
              "torch.utils.data.dataset.Subset"
            ]
          },
          "metadata": {},
          "execution_count": 36
        }
      ]
    },
    {
      "cell_type": "code",
      "source": [
        "trainloader = torch.utils.data.DataLoader(trainset, batch_size=batch_size,\n",
        "                                          shuffle=True, num_workers=2)\n",
        "\n",
        "valloader = torch.utils.data.DataLoader(valset, batch_size=batch_size,\n",
        "                                          shuffle=False, num_workers=2)\n",
        "\n",
        "testloader = torch.utils.data.DataLoader(testset, batch_size=batch_size,\n",
        "                                         shuffle=False, num_workers=2)"
      ],
      "metadata": {
        "id": "K3Xt9hOW5g7K"
      },
      "execution_count": 37,
      "outputs": []
    },
    {
      "cell_type": "markdown",
      "source": [
        "## The Neural Network\n",
        "\n",
        "### Convolution and Max pool\n",
        "\n",
        "3 layers of Convolution and Max pool.\n",
        "\n",
        "![image](https://production-media.paperswithcode.com/methods/MaxpoolSample2.png)\n",
        "\n",
        "### Then flatten\n",
        "\n",
        "### Dropout\n",
        "\n",
        "To avoid Overfitting instruduce a Dropout layer."
      ],
      "metadata": {
        "id": "H7L64gyH7Nc8"
      }
    },
    {
      "cell_type": "code",
      "source": [
        "import torch.nn as nn\n",
        "import torch.nn.functional as F\n",
        "\n",
        "class NeuralNet(nn.Module):\n",
        "    def __init__(self):\n",
        "        super().__init__()\n",
        "\n",
        "        self.conv1 = nn.Conv2d(in_channels=1, out_channels=256, kernel_size=3)\n",
        "        self.pool1 = nn.MaxPool2d(2, 2)\n",
        "\n",
        "        self.conv2 = nn.Conv2d(in_channels=256, out_channels=512, kernel_size=3)\n",
        "        self.pool2 = nn.MaxPool2d(2, 2)\n",
        "\n",
        "        self.conv3 = nn.Conv2d(in_channels=512, out_channels=1024, kernel_size=2)\n",
        "        self.pool3 = nn.MaxPool2d(2, 2)\n",
        "\n",
        "        self.flatten = nn.Flatten()\n",
        "\n",
        "        self.fc1 = nn.Linear(in_features=4096, out_features=1024)\n",
        "        self.drop1 = nn.Dropout(p=0.3)\n",
        "\n",
        "        self.fc2 = nn.Linear(in_features=1024, out_features=1024)\n",
        "        self.drop2 = nn.Dropout(p=0.3)\n",
        "\n",
        "        self.out = nn.Linear(in_features=1024, out_features=10)\n",
        "\n",
        "\n",
        "    def forward(self, x):\n",
        "      x = F.relu(self.conv1(x))\n",
        "      x = self.pool1(x)\n",
        "\n",
        "      x = F.relu(self.conv2(x))\n",
        "      x = self.pool2(x)\n",
        "\n",
        "      x = F.relu(self.conv3(x))\n",
        "      x = self.pool3(x)\n",
        "\n",
        "      x = self.flatten(x)\n",
        "\n",
        "      x = F.relu(self.fc1(x))\n",
        "      x = self.drop1(x)\n",
        "\n",
        "      x = F.relu(self.fc2(x))\n",
        "      x = self.drop2(x)\n",
        "\n",
        "      x = self.out(x)\n",
        "\n",
        "      return x"
      ],
      "metadata": {
        "id": "rfaZ5ce17MqL"
      },
      "execution_count": 38,
      "outputs": []
    },
    {
      "cell_type": "code",
      "source": [
        "net = NeuralNet()\n",
        "net.to(device)"
      ],
      "metadata": {
        "colab": {
          "base_uri": "https://localhost:8080/"
        },
        "id": "MWSLxWdr7TGZ",
        "outputId": "a1b676bf-d2cd-4900-d613-ccfc74c6a1b4"
      },
      "execution_count": 39,
      "outputs": [
        {
          "output_type": "execute_result",
          "data": {
            "text/plain": [
              "NeuralNet(\n",
              "  (conv1): Conv2d(1, 256, kernel_size=(3, 3), stride=(1, 1))\n",
              "  (pool1): MaxPool2d(kernel_size=2, stride=2, padding=0, dilation=1, ceil_mode=False)\n",
              "  (conv2): Conv2d(256, 512, kernel_size=(3, 3), stride=(1, 1))\n",
              "  (pool2): MaxPool2d(kernel_size=2, stride=2, padding=0, dilation=1, ceil_mode=False)\n",
              "  (conv3): Conv2d(512, 1024, kernel_size=(2, 2), stride=(1, 1))\n",
              "  (pool3): MaxPool2d(kernel_size=2, stride=2, padding=0, dilation=1, ceil_mode=False)\n",
              "  (flatten): Flatten(start_dim=1, end_dim=-1)\n",
              "  (fc1): Linear(in_features=4096, out_features=1024, bias=True)\n",
              "  (drop1): Dropout(p=0.3, inplace=False)\n",
              "  (fc2): Linear(in_features=1024, out_features=1024, bias=True)\n",
              "  (drop2): Dropout(p=0.3, inplace=False)\n",
              "  (out): Linear(in_features=1024, out_features=10, bias=True)\n",
              ")"
            ]
          },
          "metadata": {},
          "execution_count": 39
        }
      ]
    },
    {
      "cell_type": "code",
      "source": [
        "for i, data in enumerate(trainloader):\n",
        "    inputs, labels = data[0].to(device), data[1].to(device)\n",
        "    print(f'input shape: {inputs.shape}')\n",
        "    print(f'after network shape: {net(inputs).shape}')\n",
        "    break"
      ],
      "metadata": {
        "colab": {
          "base_uri": "https://localhost:8080/"
        },
        "id": "81Axj2q87Ues",
        "outputId": "1f2cdcd5-8ffb-45e9-b56f-67cdbba93c23"
      },
      "execution_count": 40,
      "outputs": [
        {
          "output_type": "stream",
          "name": "stdout",
          "text": [
            "input shape: torch.Size([8, 1, 28, 28])\n",
            "after network shape: torch.Size([8, 10])\n"
          ]
        }
      ]
    },
    {
      "cell_type": "code",
      "source": [
        "num_params = 0\n",
        "for x in net.parameters():\n",
        "  num_params += len(torch.flatten(x))\n",
        "\n",
        "print(f'Number of parameters in the model: {num_params:,}')"
      ],
      "metadata": {
        "colab": {
          "base_uri": "https://localhost:8080/"
        },
        "id": "Hrbitr5g7V62",
        "outputId": "853b718d-326f-4c68-fd11-9546c537643e"
      },
      "execution_count": 41,
      "outputs": [
        {
          "output_type": "stream",
          "name": "stdout",
          "text": [
            "Number of parameters in the model: 8,536,074\n"
          ]
        }
      ]
    },
    {
      "cell_type": "code",
      "source": [
        "import torch.optim as optim\n",
        "\n",
        "criterion = nn.CrossEntropyLoss()\n",
        "optimizer = optim.Adam(net.parameters(), lr=0.0001)"
      ],
      "metadata": {
        "id": "jYIQSdE97XIv"
      },
      "execution_count": 42,
      "outputs": []
    },
    {
      "cell_type": "code",
      "source": [
        "def train_one_epoch():\n",
        "  net.train(True)\n",
        "\n",
        "  running_loss = 0.0\n",
        "  running_accuracy = 0.0\n",
        "\n",
        "  for batch_index, data in enumerate(trainloader):\n",
        "    inputs, labels = data[0].to(device), data[1].to(device)\n",
        "\n",
        "    optimizer.zero_grad()\n",
        "\n",
        "    outputs = net(inputs) # shape: [batch_size, 10]\n",
        "    correct = torch.sum(labels == torch.argmax(outputs, dim=1)).item()\n",
        "    running_accuracy += correct / batch_size\n",
        "\n",
        "    loss = criterion(outputs, labels)\n",
        "    running_loss += loss.item()\n",
        "    loss.backward()\n",
        "    optimizer.step()\n",
        "\n",
        "    if batch_index % 500 == 499:  # print every 500 batches\n",
        "      avg_loss_across_batches = running_loss / 500\n",
        "      avg_acc_across_batches = (running_accuracy / 500) * 100\n",
        "      print('Batch {0}, Loss: {1:.3f}, Accuracy: {2:.1f}%'.format(batch_index+1,\n",
        "                                                          avg_loss_across_batches,\n",
        "                                                          avg_acc_across_batches))\n",
        "      running_loss = 0.0\n",
        "      running_accuracy = 0.0\n",
        "\n",
        "\n",
        "  print()"
      ],
      "metadata": {
        "id": "83_pJ_Nm7XSG"
      },
      "execution_count": 43,
      "outputs": []
    },
    {
      "cell_type": "code",
      "source": [
        "def validate_one_epoch():\n",
        "    net.train(False)\n",
        "    running_loss = 0.0\n",
        "    running_accuracy = 0.0\n",
        "\n",
        "    for i, data in enumerate(valloader):\n",
        "        inputs, labels = data[0].to(device), data[1].to(device)\n",
        "\n",
        "        with torch.no_grad():\n",
        "            outputs = net(inputs) # shape: [batch_size, 10]\n",
        "            correct = torch.sum(labels == torch.argmax(outputs, dim=1)).item()\n",
        "            running_accuracy += correct / batch_size\n",
        "            loss = criterion(outputs, labels) # One number, the average batch loss\n",
        "            running_loss += loss.item()\n",
        "\n",
        "    avg_loss_across_batches = running_loss / len(valloader)\n",
        "    avg_acc_across_batches = (running_accuracy / len(valloader)) * 100\n",
        "\n",
        "    print('Val Loss: {0:.3f}, Val Accuracy: {1:.1f}%'.format(avg_loss_across_batches,\n",
        "                                                            avg_acc_across_batches))\n",
        "    print('***************************************************')\n",
        "    print()"
      ],
      "metadata": {
        "id": "FR5Ys1ET7bRj"
      },
      "execution_count": 44,
      "outputs": []
    },
    {
      "cell_type": "markdown",
      "source": [
        "## The training"
      ],
      "metadata": {
        "id": "hjdz6QLj7kZK"
      }
    },
    {
      "cell_type": "code",
      "source": [
        "num_epochs = 10\n",
        "\n",
        "for epoch_index in range(num_epochs):\n",
        "    print(f'Epoch: {epoch_index + 1}\\n')\n",
        "\n",
        "    train_one_epoch()\n",
        "    validate_one_epoch()\n",
        "\n",
        "\n",
        "print('Finished Training')"
      ],
      "metadata": {
        "colab": {
          "base_uri": "https://localhost:8080/"
        },
        "id": "cdtPLKje7cp1",
        "outputId": "edaf0d92-eda3-4255-e7e2-8b31fa58f820"
      },
      "execution_count": 45,
      "outputs": [
        {
          "output_type": "stream",
          "name": "stdout",
          "text": [
            "Epoch: 1\n",
            "\n",
            "Batch 500, Loss: 1.221, Accuracy: 53.1%\n",
            "Batch 1000, Loss: 0.736, Accuracy: 73.1%\n",
            "Batch 1500, Loss: 0.617, Accuracy: 76.3%\n",
            "Batch 2000, Loss: 0.584, Accuracy: 78.1%\n",
            "Batch 2500, Loss: 0.569, Accuracy: 78.6%\n",
            "Batch 3000, Loss: 0.518, Accuracy: 80.8%\n",
            "Batch 3500, Loss: 0.497, Accuracy: 82.0%\n",
            "Batch 4000, Loss: 0.487, Accuracy: 81.4%\n",
            "Batch 4500, Loss: 0.458, Accuracy: 83.4%\n",
            "Batch 5000, Loss: 0.446, Accuracy: 83.1%\n",
            "Batch 5500, Loss: 0.430, Accuracy: 84.5%\n",
            "Batch 6000, Loss: 0.414, Accuracy: 85.3%\n",
            "\n",
            "Val Loss: 0.413, Val Accuracy: 84.9%\n",
            "***************************************************\n",
            "\n",
            "Epoch: 2\n",
            "\n",
            "Batch 500, Loss: 0.380, Accuracy: 85.4%\n",
            "Batch 1000, Loss: 0.399, Accuracy: 85.1%\n",
            "Batch 1500, Loss: 0.394, Accuracy: 85.1%\n",
            "Batch 2000, Loss: 0.369, Accuracy: 86.3%\n",
            "Batch 2500, Loss: 0.351, Accuracy: 86.8%\n",
            "Batch 3000, Loss: 0.365, Accuracy: 86.5%\n",
            "Batch 3500, Loss: 0.340, Accuracy: 88.0%\n",
            "Batch 4000, Loss: 0.290, Accuracy: 89.3%\n",
            "Batch 4500, Loss: 0.358, Accuracy: 87.2%\n",
            "Batch 5000, Loss: 0.337, Accuracy: 88.2%\n",
            "Batch 5500, Loss: 0.327, Accuracy: 87.8%\n",
            "Batch 6000, Loss: 0.321, Accuracy: 88.1%\n",
            "\n",
            "Val Loss: 0.321, Val Accuracy: 88.2%\n",
            "***************************************************\n",
            "\n",
            "Epoch: 3\n",
            "\n",
            "Batch 500, Loss: 0.304, Accuracy: 88.9%\n",
            "Batch 1000, Loss: 0.313, Accuracy: 88.1%\n",
            "Batch 1500, Loss: 0.284, Accuracy: 89.8%\n",
            "Batch 2000, Loss: 0.284, Accuracy: 90.1%\n",
            "Batch 2500, Loss: 0.286, Accuracy: 89.6%\n",
            "Batch 3000, Loss: 0.275, Accuracy: 89.5%\n",
            "Batch 3500, Loss: 0.295, Accuracy: 89.3%\n",
            "Batch 4000, Loss: 0.302, Accuracy: 88.6%\n",
            "Batch 4500, Loss: 0.279, Accuracy: 89.7%\n",
            "Batch 5000, Loss: 0.288, Accuracy: 89.4%\n",
            "Batch 5500, Loss: 0.281, Accuracy: 89.8%\n",
            "Batch 6000, Loss: 0.281, Accuracy: 89.1%\n",
            "\n",
            "Val Loss: 0.280, Val Accuracy: 90.1%\n",
            "***************************************************\n",
            "\n",
            "Epoch: 4\n",
            "\n",
            "Batch 500, Loss: 0.257, Accuracy: 91.4%\n",
            "Batch 1000, Loss: 0.246, Accuracy: 90.6%\n",
            "Batch 1500, Loss: 0.254, Accuracy: 90.4%\n",
            "Batch 2000, Loss: 0.256, Accuracy: 90.3%\n",
            "Batch 2500, Loss: 0.242, Accuracy: 91.0%\n",
            "Batch 3000, Loss: 0.266, Accuracy: 90.5%\n",
            "Batch 3500, Loss: 0.241, Accuracy: 90.8%\n",
            "Batch 4000, Loss: 0.244, Accuracy: 90.8%\n",
            "Batch 4500, Loss: 0.270, Accuracy: 90.0%\n",
            "Batch 5000, Loss: 0.253, Accuracy: 90.6%\n",
            "Batch 5500, Loss: 0.239, Accuracy: 91.8%\n",
            "Batch 6000, Loss: 0.256, Accuracy: 90.1%\n",
            "\n",
            "Val Loss: 0.267, Val Accuracy: 90.0%\n",
            "***************************************************\n",
            "\n",
            "Epoch: 5\n",
            "\n",
            "Batch 500, Loss: 0.234, Accuracy: 91.2%\n",
            "Batch 1000, Loss: 0.219, Accuracy: 92.2%\n",
            "Batch 1500, Loss: 0.221, Accuracy: 92.3%\n",
            "Batch 2000, Loss: 0.228, Accuracy: 91.2%\n",
            "Batch 2500, Loss: 0.218, Accuracy: 91.9%\n",
            "Batch 3000, Loss: 0.236, Accuracy: 91.3%\n",
            "Batch 3500, Loss: 0.234, Accuracy: 91.4%\n",
            "Batch 4000, Loss: 0.200, Accuracy: 92.5%\n",
            "Batch 4500, Loss: 0.220, Accuracy: 92.0%\n",
            "Batch 5000, Loss: 0.237, Accuracy: 91.1%\n",
            "Batch 5500, Loss: 0.215, Accuracy: 92.3%\n",
            "Batch 6000, Loss: 0.227, Accuracy: 91.6%\n",
            "\n",
            "Val Loss: 0.250, Val Accuracy: 90.9%\n",
            "***************************************************\n",
            "\n",
            "Epoch: 6\n",
            "\n",
            "Batch 500, Loss: 0.209, Accuracy: 92.2%\n",
            "Batch 1000, Loss: 0.188, Accuracy: 93.0%\n",
            "Batch 1500, Loss: 0.185, Accuracy: 93.2%\n",
            "Batch 2000, Loss: 0.194, Accuracy: 92.9%\n",
            "Batch 2500, Loss: 0.203, Accuracy: 92.3%\n",
            "Batch 3000, Loss: 0.195, Accuracy: 92.7%\n",
            "Batch 3500, Loss: 0.191, Accuracy: 92.7%\n",
            "Batch 4000, Loss: 0.202, Accuracy: 92.3%\n",
            "Batch 4500, Loss: 0.201, Accuracy: 92.8%\n",
            "Batch 5000, Loss: 0.183, Accuracy: 92.8%\n",
            "Batch 5500, Loss: 0.204, Accuracy: 92.2%\n",
            "Batch 6000, Loss: 0.198, Accuracy: 92.7%\n",
            "\n",
            "Val Loss: 0.242, Val Accuracy: 91.4%\n",
            "***************************************************\n",
            "\n",
            "Epoch: 7\n",
            "\n",
            "Batch 500, Loss: 0.171, Accuracy: 93.5%\n",
            "Batch 1000, Loss: 0.159, Accuracy: 94.3%\n",
            "Batch 1500, Loss: 0.165, Accuracy: 93.8%\n",
            "Batch 2000, Loss: 0.185, Accuracy: 92.8%\n",
            "Batch 2500, Loss: 0.161, Accuracy: 94.0%\n",
            "Batch 3000, Loss: 0.169, Accuracy: 93.4%\n",
            "Batch 3500, Loss: 0.188, Accuracy: 92.7%\n",
            "Batch 4000, Loss: 0.170, Accuracy: 93.6%\n",
            "Batch 4500, Loss: 0.176, Accuracy: 93.4%\n",
            "Batch 5000, Loss: 0.171, Accuracy: 93.7%\n",
            "Batch 5500, Loss: 0.177, Accuracy: 93.3%\n",
            "Batch 6000, Loss: 0.196, Accuracy: 93.2%\n",
            "\n",
            "Val Loss: 0.231, Val Accuracy: 91.8%\n",
            "***************************************************\n",
            "\n",
            "Epoch: 8\n",
            "\n",
            "Batch 500, Loss: 0.125, Accuracy: 95.2%\n",
            "Batch 1000, Loss: 0.157, Accuracy: 94.2%\n",
            "Batch 1500, Loss: 0.151, Accuracy: 94.2%\n",
            "Batch 2000, Loss: 0.155, Accuracy: 94.2%\n",
            "Batch 2500, Loss: 0.160, Accuracy: 94.1%\n",
            "Batch 3000, Loss: 0.157, Accuracy: 94.1%\n",
            "Batch 3500, Loss: 0.159, Accuracy: 94.4%\n",
            "Batch 4000, Loss: 0.140, Accuracy: 94.6%\n",
            "Batch 4500, Loss: 0.159, Accuracy: 94.0%\n",
            "Batch 5000, Loss: 0.162, Accuracy: 94.0%\n",
            "Batch 5500, Loss: 0.154, Accuracy: 94.5%\n",
            "Batch 6000, Loss: 0.174, Accuracy: 93.5%\n",
            "\n",
            "Val Loss: 0.246, Val Accuracy: 91.9%\n",
            "***************************************************\n",
            "\n",
            "Epoch: 9\n",
            "\n",
            "Batch 500, Loss: 0.134, Accuracy: 95.0%\n",
            "Batch 1000, Loss: 0.135, Accuracy: 95.1%\n",
            "Batch 1500, Loss: 0.131, Accuracy: 95.0%\n",
            "Batch 2000, Loss: 0.119, Accuracy: 95.8%\n",
            "Batch 2500, Loss: 0.139, Accuracy: 94.7%\n",
            "Batch 3000, Loss: 0.124, Accuracy: 95.3%\n",
            "Batch 3500, Loss: 0.138, Accuracy: 95.0%\n",
            "Batch 4000, Loss: 0.152, Accuracy: 94.6%\n",
            "Batch 4500, Loss: 0.115, Accuracy: 95.8%\n",
            "Batch 5000, Loss: 0.143, Accuracy: 94.6%\n",
            "Batch 5500, Loss: 0.136, Accuracy: 94.7%\n",
            "Batch 6000, Loss: 0.135, Accuracy: 94.8%\n",
            "\n",
            "Val Loss: 0.254, Val Accuracy: 91.8%\n",
            "***************************************************\n",
            "\n",
            "Epoch: 10\n",
            "\n",
            "Batch 500, Loss: 0.107, Accuracy: 96.1%\n",
            "Batch 1000, Loss: 0.110, Accuracy: 95.8%\n",
            "Batch 1500, Loss: 0.110, Accuracy: 95.7%\n",
            "Batch 2000, Loss: 0.114, Accuracy: 95.9%\n",
            "Batch 2500, Loss: 0.126, Accuracy: 95.1%\n",
            "Batch 3000, Loss: 0.104, Accuracy: 96.0%\n",
            "Batch 3500, Loss: 0.120, Accuracy: 95.5%\n",
            "Batch 4000, Loss: 0.113, Accuracy: 96.1%\n",
            "Batch 4500, Loss: 0.115, Accuracy: 95.5%\n",
            "Batch 5000, Loss: 0.124, Accuracy: 95.5%\n",
            "Batch 5500, Loss: 0.114, Accuracy: 95.5%\n",
            "Batch 6000, Loss: 0.130, Accuracy: 95.0%\n",
            "\n",
            "Val Loss: 0.309, Val Accuracy: 90.7%\n",
            "***************************************************\n",
            "\n",
            "Finished Training\n"
          ]
        }
      ]
    }
  ]
}